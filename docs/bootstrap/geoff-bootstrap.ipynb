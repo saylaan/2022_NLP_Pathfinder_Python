{
 "cells": [
  {
   "cell_type": "code",
   "execution_count": 100,
   "metadata": {},
   "outputs": [],
   "source": [
    "import sys\n",
    "import os\n",
    "sys.path\n",
    "import pandas as pd\n",
    "import numpy as np"
   ]
  },
  {
   "cell_type": "markdown",
   "metadata": {},
   "source": [
    "# GETTING THE DATA SETS"
   ]
  },
  {
   "cell_type": "code",
   "execution_count": 138,
   "metadata": {},
   "outputs": [],
   "source": [
    "path = \"C:/Users/Geoff/Desktop/Workspace/Dev/MS2/AIA/901/Bootstrap/discours/\"\n",
    "files = os.listdir(path);\n",
    "\n",
    "# Read File and put in Dataframe\n",
    "# df = pd.DataFrame(columns=[\"filenames\", \"data\"])\n",
    "# for file in files:\n",
    "#     newPath = path + file\n",
    "#     my_file = open(newPath, 'r', encoding=\"utf-8\")\n",
    "#     content = my_file.read().replace(\"\\n\", \"\")\n",
    "#     my_file.close()\n",
    "#     df_tmp = pd.DataFrame([(file, content)], columns=[\"filenames\", \"data\"])\n",
    "#     df = df.append(df_tmp)\n",
    "# df = df.reset_index()\n",
    "\n",
    "# Read File and put in Dict\n",
    "datas = []\n",
    "for file in files:\n",
    "    newPath = path + file\n",
    "    my_file = open(newPath, 'r', encoding=\"utf-8\")\n",
    "    datas.append(my_file.read(77).replace(\"\\n\", \"\"))\n",
    "    my_file.close()\n",
    "filenames = np.array(files)\n",
    "data =  np.array(datas)\n",
    "dict = {}\n",
    "for A, B in zip(filenames, data):\n",
    "    dict[A] = B\n",
    "# print(dict)"
   ]
  },
  {
   "cell_type": "markdown",
   "metadata": {},
   "source": [
    "# FROM RAW TEXT TO VECTOR"
   ]
  },
  {
   "cell_type": "code",
   "execution_count": 132,
   "metadata": {},
   "outputs": [
    {
     "name": "stdout",
     "output_type": "stream",
     "text": [
      "Alain_Madelin_702.txt \"Les Français ne veulent pas du match revanche de 1995\"A l'occasion de son \n",
      "Arlette_Laguiller_201.txt Travailleuses, Travailleurs, camarades et amis,Quoi qu'en disent les commen\n",
      "Arlette_Laguiller_299.txt Travailleuses, travailleurs, camarades et amis,Pour commencer ce meeting, j\n",
      "Arlette_Laguiller_38.txt Travailleuses, travailleurs, camarades et amis,Eh bien oui, il serait possi\n",
      "Arlette_Laguiller_47.txt Travailleuses, Travailleurs, camarades et amis,Bienvenue à toutes et à tous\n",
      "Arlette_Laguiller_70.txt Travailleuses, travailleurs, camarades et amisLes principaux problèmes auxq\n",
      "Arlette_Laguiller_765.txt Travailleuses, travailleurs, camarades et amis,Bien que Chirac et Jospin os\n",
      "Arlette_Laguiller_810.txt Travailleuses, travailleurs, camarades et amis,Plus on se rapproche du prem\n",
      "Arlette_Laguiller_86.txt Travailleuses, Travailleurs, camarades et amis,Bienvenue à toutes et à tous\n",
      "Arlette_Laguiller_97.txt Travailleuses, travailleurs, camarades et amis,Quel que soit son résultat f\n",
      "Bruno_Mégret_466.txt Mesdames, Messieurs,La question de la défense de la France a été complèteme\n",
      "Corinne_Lepage_889.txt Mesdames ,messieursJe tiens tout d'abord, à vous remercier d'être présents,\n",
      "Dominique_Voynet_663.txt http://www.dailymotion.com/video/x1plv5_meeting-voynet-a-caen-1-3_news?searc\n",
      "Eva_Joly_339.txt Chers amis,C’est ce soir le dernier meeting de ma campagne. Le dernier meet\n",
      "Eva_Joly_725.txt Chers amis,Je veux vous parler ce soir de l’écologie, et de la France.La c\n",
      "François_Bayrou_108.txt Vous êtes très beaux ! Vous êtes très beaux, vous êtes très chaleureux et vo\n",
      "François_Bayrou_156.txt Mes premiers mots seront des mots d'excuse, car il y a autant de nos amis à \n",
      "François_Bayrou_257.txt Mes chers amis, je n'ai qu'un mot à dire à l'entrée de ce meeting, et c'est \n",
      "François_Bayrou_259.txt Mes chers amis, je suis très ému par votre présence nombreuse. Ce n'est pas \n",
      "François_Bayrou_546.txt Mes chers amis, Ici bat le coeur de la Bretagne et, là où bat le coeur de la\n",
      "François_Bayrou_751.txt Mes chers amis, j'ai une bonne nouvelle pour vous : ce n'est pas un meeting.\n",
      "François_Bayrou_798.txt Comment douter, en vous voyant, de la réalité de la profondeur et de la forc\n",
      "François_Bayrou_814.txt Merci de votre amitié et merci de votre présence !Je veux dire une chose : \n",
      "François_Bayrou_886.txt Mes chers amis... Si cette expression \"mes chers amis\" a vraiment été justif\n",
      "François_Bayrou_965.txt Merci de votre présence, merci de votre chaleur, merci de votre engagement e\n",
      "François_Hollande_188.txt Mes chers amis, j’entends la clameur. Je mesure la ferveur. J’imagine demain\n",
      "François_Hollande_227.txt Mes chers amis, j’avais plusieurs raisons de venir à Besançon ce soir. D’abo\n",
      "François_Hollande_286.txt Mesdames, Messieurs, chers amis, je cherchais pour terminer cette campagne u\n",
      "François_Hollande_402.txt Monsieur le Maire, Mesdames Messieurs les élus ici présents, Mesdames Messie\n",
      "François_Hollande_470.txt Mesdames, Messieurs, chers amis, je remercie Serge Godard de nous avoir prêt\n",
      "François_Hollande_476.txt Bonsoir Toulouse ! Quand je me suis déclaré candidat à l’élection présidenti\n",
      "François_Hollande_709.txt Mes chers amis ! Merci d’être venus aussi nombreux, ce soir, à Lille, cette \n",
      "François_Hollande_836.txt Mesdames, Messieurs, vous êtes nombreux sur cette place, presque autant qu’h\n",
      "François_Hollande_937.txt Mes chers amis, vous êtes là ? Ca tombe bien, je vous attendais. Je vous att\n",
      "François_Hollande_951.txt Mes chers amis, vous êtes là, rien ne vous a arrêtés, ni la pluie, ni le fro\n",
      "François_Hollande_975.txt Mes chers amis, je suis heureux de vous revoir, de revenir dans ma région, l\n",
      "Gérard_Schivardi_999.txt http://schivardimedias2007.unblog.fr/2007/04/16/gerard-schivardi-le-meeting-\n",
      "Jacques_Chirac_139.txt Mes chers amis,Mes chers compatriotes,Il est des moments forts. Des moment\n",
      "Jacques_Chirac_375.txt Madame la Présidente de la Région Guadeloupe, ma chère Lucette,Mesdames et \n",
      "Jacques_Chirac_454.txt Mes chers amis,Merci pour votre présence, merci pour votre enthousiasme, me\n",
      "Jacques_Chirac_514.txt Monsieur le Président du Sénat, Cher Christian, merci de votre présence, vou\n",
      "Jacques_Chirac_60.txt Chers Amis,L'engagement culturel est une passion. Passion d'apprendre et de\n",
      "Jacques_Chirac_624.txt Cher Jean-Pierre RAFFARIN,Mes chers Amis,Il est des villes qui évoquent im\n",
      "Jacques_Chirac_638.txt Cher Marc-Philippe DAUBRESSE,Cher Thierry LAZARO,Cher Franck DHERSIN,Mes \n",
      "Jacques_Chirac_758.txt Monsieur le Maire d'Ussel, Cher Laurent CHASTAGNOL,Cher Jean-Pierre DUPONT,\n",
      "Jean-Luc_Mélenchon_391.txt http://www.lepartidegauche.fr/lateledegauche/encampagne/jean-luc-melenchon-d\n",
      "Jean-Marie_Le_Pen_475.txt Mes Chers compatriotes de Métropole, d'Outre-mer et, vous, Français expatrié\n",
      "Jean-Marie_Le_Pen_684.txt Mes chers camarades,Mes chers Compatriotes,Merci d'être venus si nombreux,\n",
      "Jean-Marie_Le_Pen_922.txt Chers amis, merci d'être venus si nombreux en ce jeudi 2 mai, à trois jours \n",
      "Jean-Marie_Le_Pen_982.txt Mes chers compatriotes,Quelle joie de se retrouver, à la fin de cette campa\n",
      "Jean-Pierre_Chevènement_504.txt Les démolisseurs de l'unité nationale sont à l'oeuvre : l'un à Ajaccio, l'au\n",
      "Jean-Pierre_Chevènement_818.txt Honneur au peuple français !Jamais les Françaises et les Français n'avaient\n",
      "Jean-Pierre_Chevènement_849.txt Je suis particulièrement heureux d'être ici ce soir, dans cette belle ville \n",
      "José_Bové_963.txt http://www.dailymotion.com/video/x1q0rt_discours-du-meeting-de-jose-bove_new\n",
      "Lionel_Jospin_300.txt Mon cher Guy, mon cher Serge, chers amis. Lundi, j'étais à Clermont-Ferrand,\n",
      "Lionel_Jospin_467.txt Mes chers amis,Je voudrais remercier Monsieur Marc MASSION, le Maire de Gra\n",
      "Lionel_Jospin_497.txt Mesdames et Messieurs,Mes cher(e)s camarades,Cher(e)s ami(e)s,Merci pour \n",
      "Lionel_Jospin_535.txt Mes chers amis,En 1995, les choses étaient simples parce que quand j'étais \n",
      "Lionel_Jospin_829.txt Mesdames, Messieurs,Chers amis, Chers camarades,Merci à tous, mes chers am\n",
      "Lionel_Jospin_858.txt J'adresse mes excuses à ceux que je devais rencontrer au Foyer \" Soleil des \n",
      "Marie-George_Buffet_194.txt Ici, à l'usine Renault du Mans, cinq ouvriers viennent de perdre leur travai\n",
      "Marine_Le_Pen_553.txt C’est avec un immense plaisir que je passe la dernière journée de la campagn\n",
      "Nathalie_Arthaud_211.txt Travailleuses, travailleurs, camarades et amis,La description que vient de \n",
      "Nathalie_Arthaud_66.txt Travailleuses, travailleurs, camarades et amis,Dans une semaine, le premier\n",
      "Nicolas_Sarkozy_0.txt Mes chers amis,Je salue la Touraine, terre de la douceur de vivre où ont ét\n",
      "Nicolas_Sarkozy_144.txt Mes chers amis,Y a-t-il meilleur endroit que la terre auvergnate pour parle\n",
      "Nicolas_Sarkozy_187.txt Mes chers amis,En venant ici à Meaux, ce soir, je viens à la rencontre de l\n",
      "Nicolas_Sarkozy_225.txt À quelques jours de la fin de cette campagne pendant laquelle on a tant parl\n",
      "Nicolas_Sarkozy_402.txt Mes chers amis,Toulouse, capitale de la France du Midi,Toulouse, qui n'a j\n",
      "Nicolas_Sarkozy_435.txt Mes chers amis, je salue Toulouse ! Je salue Metz, je salue Lyon, je salue M\n",
      "Nicolas_Sarkozy_519.txt Mes chers amis,C'est ici, en Languedoc, que finit cette campagne qui fut lo\n",
      "Nicolas_Sarkozy_531.txt Mes chers amis,En prenant la parole devant vous cet après-midi, à quelques \n",
      "Nicolas_Sarkozy_535.txt Mes chers concitoyens,Écoutez le Général de Gaulle. C’était le 1er mai 1950\n",
      "Nicolas_Sarkozy_544.txt Mesdames et Messieurs,Je veux d'abord parler à ceux d'entre vous qui aujour\n",
      "Nicolas_Sarkozy_555.txt Mes chers amis,Je veux vous dire mon bonheur d'être ici, à Marseille, pour \n",
      "Nicolas_Sarkozy_595.txt Mes chers amis, d’abord, je veux saluer les centaines de nos amis qui sont d\n",
      "Nicolas_Sarkozy_624.txt Mes chers amis, Ils pensaient que vous ne viendriez pas.Ils pensaient, peut\n",
      "Nicolas_Sarkozy_679.txt Mes chers amis. Merci, Monsieur le Maire, cher Jérôme, de ton accueil.Merci\n",
      "Nicolas_Sarkozy_69.txt Mes chers amis – merci beaucoup – mes chers amis, Dans quelques jours, mes c\n",
      "Nicolas_Sarkozy_692.txt Mes chers amis, c’est un bonheur que de revenir une nouvelle fois, cher Jean\n",
      "Nicolas_Sarkozy_701.txt Mes chers amis, Je suis très heureux...Le public On va gagner ! On va gagne\n",
      "Nicolas_Sarkozy_937.txt Mes chers amis,À quatre jours du vote, votre ferveur me laisse penser qu'un\n",
      "Olivier_Besancenot_13.txt http://www.dailymotion.com/video/x1qdu4_olivier-besancenot-a-marseille_news\n",
      "Olivier_Besancenot_536.txt Travailleuses, travailleurs, camarades et amis,Bienvenue à toutes et à tous\n",
      "Philippe_Poutou_416.txt http://www.dailymotion.com/video/xq3a30_meeting-de-philippe-poutou-a-la-hall\n",
      "Robert_Hue_163.txt Cher-e-s ami-e-s, cher-e-s camarades,Dix jours nous séparent du premier tou\n",
      "Robert_Hue_275.txt Mesdames, Messieurs, cher-e-s ami-e-s, cher-e-s camarades,Je veux d'abord d\n",
      "Robert_Hue_402.txt Mesdames, Messieurs, cher-e-s ami-e-s, cher-e-s camarades,Je veux d'abord d\n",
      "Robert_Hue_991.txt Mesdames, Messieurs, cher-e-s ami-e-s, cher-e-s camarades,Je suis très heur\n",
      "Ségolène_Royal_324.txt Bonsoir, amis de Lyon et de toute la région. Bonsoir à tous.Je suis profond\n",
      "Ségolène_Royal_401.txt Bonjour la France présidente !Je la vois, cette France présidente, en train\n",
      "Ségolène_Royal_732.txt Bonsoir.Chers amis, chers amis de Lorraine, mes frères et mes soeurs, je re\n",
      "Ségolène_Royal_781.txt Bonsoir Lille !Bonsoir le Nord.Merci à tous d'être aussi nombreux rassembl\n",
      "Ségolène_Royal_860.txt Bonjour Toulouse !Merci, Jose Luis Zapatero de venir nous apporter la flamm\n",
      "Ségolène_Royal_890.txt Je vous salue ! Je vous salue peuple de France ! Je vous salue peuple de Fra\n"
     ]
    }
   ],
   "source": [
    "for x, y in dict.items():\n",
    "    print(x, y)"
   ]
  },
  {
   "cell_type": "code",
   "execution_count": null,
   "metadata": {},
   "outputs": [],
   "source": []
  }
 ],
 "metadata": {
  "interpreter": {
   "hash": "b68cdf6b187ffd965dd9ad9b2f176dd613b6e72c3cce25fc650cee44b3f3a8d2"
  },
  "kernelspec": {
   "display_name": "Python 3.9.2 64-bit",
   "name": "python3"
  },
  "language_info": {
   "codemirror_mode": {
    "name": "ipython",
    "version": 3
   },
   "file_extension": ".py",
   "mimetype": "text/x-python",
   "name": "python",
   "nbconvert_exporter": "python",
   "pygments_lexer": "ipython3",
   "version": "3.9.2"
  },
  "orig_nbformat": 4
 },
 "nbformat": 4,
 "nbformat_minor": 2
}
